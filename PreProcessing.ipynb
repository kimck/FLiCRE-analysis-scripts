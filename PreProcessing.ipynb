{
 "cells": [
  {
   "cell_type": "code",
   "execution_count": null,
   "metadata": {},
   "outputs": [],
   "source": [
    "# import modules, define some functions for loading, saving and processing a gene-barcode matrix\n",
    "%matplotlib inline\n",
    "import collections\n",
    "import matplotlib\n",
    "import matplotlib.pyplot as plt\n",
    "import numpy as np\n",
    "import pandas as pd\n",
    "import scipy.sparse as sp_sparse\n",
    "import h5py\n",
    "import csv\n",
    "\n",
    "np.random.seed(0)\n",
    "\n",
    "FeatureBCMatrix = collections.namedtuple('FeatureBCMatrix', ['feature_ids', 'feature_names', 'barcodes', 'matrix'])\n",
    "\n",
    "def get_matrix_from_h5(filename):\n",
    "    with h5py.File(filename) as f:\n",
    "        if u'version' in f.attrs:\n",
    "            if f.attrs['version'] > 2:\n",
    "                raise ValueError('Matrix HDF5 file format version (%d) is an newer version that is not supported by this function.' % version)\n",
    "        else:\n",
    "            raise ValueError('Matrix HDF5 file format version (%d) is an older version that is not supported by this function.' % version)\n",
    "        \n",
    "        feature_ids = [x.decode('ascii', 'ignore') for x in f['matrix']['features']['id']]\n",
    "        feature_names = [x.decode('ascii', 'ignore') for x in f['matrix']['features']['name']]        \n",
    "        barcodes = list(f['matrix']['barcodes'][:])\n",
    "        matrix = sp_sparse.csc_matrix((f['matrix']['data'], f['matrix']['indices'], f['matrix']['indptr']), shape=f['matrix']['shape'])\n",
    "        return FeatureBCMatrix(feature_ids, feature_names, barcodes, matrix)\n",
    "\n",
    "def get_expression(fbm, gene_name):\n",
    "    try:\n",
    "        gene_index = feature_bc_matrix.feature_names.index(gene_name)\n",
    "    except ValueError:\n",
    "        raise Exception(\"%s was not found in list of gene names.\" % gene_name)\n",
    "    return fbm.matrix[gene_index, :].toarray().squeeze()"
   ]
  },
  {
   "cell_type": "code",
   "execution_count": null,
   "metadata": {},
   "outputs": [],
   "source": [
    "folder='FLARE2'\n",
    "project='20190110_Thy1LM'\n",
    "dataset='Thy1M'\n",
    "\n",
    "matrices_dir = \"/media/storage/ckk/genomics/data/\"+folder+\"/counts/\"+project+\"/\"+dataset+\"/outs/\"\n",
    "save_dir = \"/media/storage/ckk/genomics/data/\"+folder+\"/reanalysis/\"+project+\"/Barcodes/\"\n",
    "file_matrix_h5 = matrices_dir+\"filtered_feature_bc_matrix.h5\"\n",
    "gene_bc_matrix = get_matrix_from_h5(file_matrix_h5)"
   ]
  },
  {
   "cell_type": "code",
   "execution_count": null,
   "metadata": {
    "scrolled": true
   },
   "outputs": [],
   "source": [
    "# plot distribution of UMIs. Remove cells with < 600 UMIs.\n",
    "umis_per_cell = np.asarray(gene_bc_matrix.matrix.sum(axis=0)).squeeze()\n",
    "#plt.hist(np.log10(umis_per_cell), bins=50)\n",
    "plt.hist((umis_per_cell), bins=50)\n",
    "plt.xlabel('UMIS per cell')\n",
    "plt.ylabel('Frequency')\n",
    "plt.title('UMI Distribution')\n",
    "plt.show()\n",
    "\n",
    "del_cells=np.where(umis_per_cell<600)[0]\n",
    "print(\"# cells to delete with < 600 UMIs: \" + str(len(del_cells)))\n",
    "print(\"total # cells to delete: \" + str(len(del_cells)))\n",
    "\n",
    "# plot distrubtion of #genes per cell.\n",
    "genes_per_cell = np.asarray((gene_bc_matrix.matrix > 0).sum(axis=0)).squeeze()\n",
    "plt.hist(genes_per_cell, bins=50)\n",
    "plt.xlabel('Genes per cell')\n",
    "plt.ylabel('Frequency')\n",
    "plt.title('Gene Distribution')\n",
    "plt.show()\n",
    "\n",
    "# plot distrubtion of #UMIs/#genes per cell. Remove cells with <1.2 ratio\n",
    "UMIs_to_genes = umis_per_cell/genes_per_cell\n",
    "\n",
    "plt.hist(UMIs_to_genes, bins=50)\n",
    "plt.xlabel('UMIs/Genes per cell')\n",
    "plt.ylabel('Frequency')\n",
    "plt.title('UMI/Gene Distribution')\n",
    "plt.show()\n",
    "\n",
    "print(\"# cells to delete with UMI/gene ratio < 1.2: \" + str(len(np.where(UMIs_to_genes<1.2)[0])))\n",
    "del_cells = np.append(del_cells, np.where(UMIs_to_genes<1.2)[0])\n",
    "print(\"total # cells to delete: \" + str(len(del_cells)))\n",
    "\n",
    "# plot distribution of #cells containing each gene. Remove genes in < 20 cells\n",
    "cells_per_gene = np.asarray((gene_bc_matrix.matrix>0).sum(axis=1)).squeeze()\n",
    "\n",
    "plt.hist(cells_per_gene, bins=50)\n",
    "plt.xlabel('Cells per gene')\n",
    "plt.ylabel('Frequency')\n",
    "plt.title('Cells per gene Distribution')\n",
    "plt.show()\n",
    "\n",
    "print(\"# genes to delete in < 20 cells: \" + str(len(np.where(cells_per_gene<20)[0])))\n",
    "del_genes = np.where(cells_per_gene<20)[0]\n",
    "print(\"total # genes to delete: \" + str(len(del_genes)))\n",
    "\n",
    "# plot distribution of Mito genes. Remove cells with > 0.3 mito.\n",
    "gene_series = pd.Series(gene_bc_matrix.feature_names)\n",
    "mito_genes = gene_series.str.startswith('mt')\n",
    "mito_genes = np.where(mito_genes==True)[0]\n",
    "mito_umis_per_cell = np.asarray(gene_bc_matrix.matrix[mito_genes].sum(axis=0)).squeeze()\n",
    "percent_mito = mito_umis_per_cell/umis_per_cell\n",
    "\n",
    "plt.hist(percent_mito, bins=50)\n",
    "plt.xlabel('Percent UMIs coming from mito genes')\n",
    "plt.ylabel('Frequency')\n",
    "plt.title('Mito umis Distribution')\n",
    "plt.show()\n",
    "\n",
    "print(\"# cells to delete with > 0.4 mito umis: \" + str(len(np.where(percent_mito>0.4)[0])))\n",
    "del_cells = np.append(del_cells,np.where(percent_mito>0.4)[0])\n",
    "print(\"total # cells to delete: \" + str(len(del_cells)))"
   ]
  },
  {
   "cell_type": "code",
   "execution_count": null,
   "metadata": {},
   "outputs": [],
   "source": [
    "del_cells=np.unique(del_cells)\n",
    "qc_barcodes=np.delete(gene_bc_matrix.barcodes,del_cells)\n",
    "print(\"total # cells passing QC: \" +str(len(qc_barcodes)))"
   ]
  },
  {
   "cell_type": "code",
   "execution_count": null,
   "metadata": {},
   "outputs": [],
   "source": [
    "csvsavefile = save_dir+dataset+'_QC_barcodes.csv'\n",
    "with open(csvsavefile, 'w', newline='', encoding='utf8') as f: \n",
    "    writer = csv.writer(f)\n",
    "    writer.writerow([\"Barcode\"])\n",
    "    for x in range(0,len(qc_barcodes)):\n",
    "        writer.writerow([qc_barcodes[x].decode('UTF-8')])"
   ]
  },
  {
   "cell_type": "code",
   "execution_count": null,
   "metadata": {},
   "outputs": [],
   "source": [
    "# Exclude sex, activity, or floating RNA genes\n",
    "exclude_genes=np.array(['Trf','Plp1','Mog','Mobp',\"Mfge8\",\"Mbp\",\"Hbb-bs\",\"H2-DMb2\",\"Fos\",\"Jun\",\"Junb\",\"Egr1\",\"Xist\",\"Tsix\",\"Eif2s3y\",\"Uty\",\"Kdm5d\"])\n",
    "for x in range(0,len(exclude_genes)):\n",
    "    del_genes = np.append(del_genes,np.where(np.asarray(gene_bc_matrix.feature_names) == exclude_genes[x])[0])"
   ]
  },
  {
   "cell_type": "code",
   "execution_count": null,
   "metadata": {},
   "outputs": [],
   "source": [
    "# Exlude mito genes from clustering analysis\n",
    "del_genes=np.append(del_genes,mito_genes)\n",
    "\n",
    "# Exclude ribo genes from clustering analysis\n",
    "ribo_genes = gene_series.str.startswith('Rpl')\n",
    "ribo_genes = np.where(ribo_genes==True)[0]\n",
    "del_genes=np.append(del_genes,ribo_genes)\n",
    "print(\"total # genes to delete: \" + str(len(del_genes)))"
   ]
  },
  {
   "cell_type": "code",
   "execution_count": null,
   "metadata": {},
   "outputs": [],
   "source": [
    "del_genes=np.unique(del_genes)\n",
    "del_genes_ID=np.asarray(gene_bc_matrix.feature_ids)[del_genes]\n",
    "\n",
    "csvsavefile = save_dir+dataset+'_QC_excludegenes.csv'\n",
    "with open(csvsavefile, 'w', newline='', encoding='utf8') as f: \n",
    "    writer = csv.writer(f)\n",
    "    writer.writerow([\"Gene\"])\n",
    "    for x in range(0,len(del_genes_ID)):\n",
    "        writer.writerow([del_genes_ID[x]])"
   ]
  },
  {
   "cell_type": "code",
   "execution_count": null,
   "metadata": {},
   "outputs": [],
   "source": [
    "del_genes_name=np.asarray(gene_bc_matrix.feature_names)[del_genes]\n",
    "\n",
    "csvsavefile = save_dir+dataset+'_QC_excludegenes_names.csv'\n",
    "with open(csvsavefile, 'w', newline='', encoding='utf8') as f: \n",
    "    writer = csv.writer(f)\n",
    "    writer.writerow([\"Gene\"])\n",
    "    for x in range(0,len(del_genes_name)):\n",
    "        writer.writerow([del_genes_name[x]])"
   ]
  },
  {
   "cell_type": "code",
   "execution_count": null,
   "metadata": {},
   "outputs": [],
   "source": []
  }
 ],
 "metadata": {
  "kernelspec": {
   "display_name": "Python (py36)",
   "language": "python",
   "name": "py36"
  },
  "language_info": {
   "codemirror_mode": {
    "name": "ipython",
    "version": 3
   },
   "file_extension": ".py",
   "mimetype": "text/x-python",
   "name": "python",
   "nbconvert_exporter": "python",
   "pygments_lexer": "ipython3",
   "version": "3.6.8"
  }
 },
 "nbformat": 4,
 "nbformat_minor": 2
}
